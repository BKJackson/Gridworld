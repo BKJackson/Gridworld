{
 "cells": [
  {
   "cell_type": "code",
   "execution_count": 11,
   "metadata": {
    "collapsed": true
   },
   "outputs": [],
   "source": [
    "import Gridworld as gw"
   ]
  },
  {
   "cell_type": "markdown",
   "metadata": {},
   "source": [
    "Initialize game state using `initGrid` (initializes stationary grid, all items are placed deterministically), `initGridPlayer` (initializes player in random location, but keep wall, goal and pit stationary), or `initGridRand` in which all pieces are initialized to random locations on the board."
   ]
  },
  {
   "cell_type": "code",
   "execution_count": 50,
   "metadata": {
    "collapsed": false
   },
   "outputs": [
    {
     "data": {
      "text/plain": [
       "array([[' ', ' ', ' ', ' '],\n",
       "       [' ', ' ', ' ', 'P'],\n",
       "       [' ', '+', ' ', '-'],\n",
       "       [' ', ' ', 'W', ' ']], \n",
       "      dtype='<U2')"
      ]
     },
     "execution_count": 50,
     "metadata": {},
     "output_type": "execute_result"
    }
   ],
   "source": [
    "state = gw.initGridRand()\n",
    "gw.dispGrid(state)"
   ]
  },
  {
   "cell_type": "markdown",
   "metadata": {},
   "source": [
    "\"P\" represents the player, \"W\" is the wall (an obstacle), and \"-\" is the pit (a trap that gives a negative reward) and \"+\" is the goal which gives positive reward and wins the game.\n",
    "\n",
    "The player makes moves with the `makeMove(state, move)` where `state` is the game state and `move` is an integer `0,1,2, or 3` which translates to 0 = up, 1 = down, 2 = left, 3 = right."
   ]
  },
  {
   "cell_type": "code",
   "execution_count": 51,
   "metadata": {
    "collapsed": false
   },
   "outputs": [
    {
     "data": {
      "text/plain": [
       "array([[' ', ' ', ' ', ' '],\n",
       "       [' ', ' ', 'P', ' '],\n",
       "       [' ', '+', ' ', '-'],\n",
       "       [' ', ' ', 'W', ' ']], \n",
       "      dtype='<U2')"
      ]
     },
     "execution_count": 51,
     "metadata": {},
     "output_type": "execute_result"
    }
   ],
   "source": [
    "state = gw.makeMove(state, 2) #Left 1 unit\n",
    "gw.dispGrid(state)"
   ]
  },
  {
   "cell_type": "code",
   "execution_count": 52,
   "metadata": {
    "collapsed": false
   },
   "outputs": [
    {
     "data": {
      "text/plain": [
       "array([[' ', ' ', ' ', ' '],\n",
       "       [' ', 'P', ' ', ' '],\n",
       "       [' ', '+', ' ', '-'],\n",
       "       [' ', ' ', 'W', ' ']], \n",
       "      dtype='<U2')"
      ]
     },
     "execution_count": 52,
     "metadata": {},
     "output_type": "execute_result"
    }
   ],
   "source": [
    "state = gw.makeMove(state, 2) #Left 1 unit\n",
    "gw.dispGrid(state)"
   ]
  },
  {
   "cell_type": "code",
   "execution_count": 53,
   "metadata": {
    "collapsed": false
   },
   "outputs": [
    {
     "data": {
      "text/plain": [
       "array([[' ', ' ', ' ', ' '],\n",
       "       [' ', ' ', ' ', ' '],\n",
       "       [' ', ' ', ' ', '-'],\n",
       "       [' ', ' ', 'W', ' ']], \n",
       "      dtype='<U2')"
      ]
     },
     "execution_count": 53,
     "metadata": {},
     "output_type": "execute_result"
    }
   ],
   "source": [
    "state = gw.makeMove(state, 1) #Down 1 unit\n",
    "gw.dispGrid(state)"
   ]
  },
  {
   "cell_type": "code",
   "execution_count": 54,
   "metadata": {
    "collapsed": false
   },
   "outputs": [
    {
     "name": "stdout",
     "output_type": "stream",
     "text": [
      "Reward: 10\n"
     ]
    }
   ],
   "source": [
    "print('Reward: %s' % (gw.getReward(state),))"
   ]
  },
  {
   "cell_type": "markdown",
   "metadata": {},
   "source": [
    "`P` player disappears when it encounters the goal or pit."
   ]
  }
 ],
 "metadata": {
  "kernelspec": {
   "display_name": "Python 3",
   "language": "python",
   "name": "python3"
  },
  "language_info": {
   "codemirror_mode": {
    "name": "ipython",
    "version": 3
   },
   "file_extension": ".py",
   "mimetype": "text/x-python",
   "name": "python",
   "nbconvert_exporter": "python",
   "pygments_lexer": "ipython3",
   "version": "3.6.0"
  }
 },
 "nbformat": 4,
 "nbformat_minor": 2
}
